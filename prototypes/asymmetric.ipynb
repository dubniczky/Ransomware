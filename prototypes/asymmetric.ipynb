{
 "cells": [
  {
   "cell_type": "code",
   "execution_count": 1,
   "metadata": {},
   "outputs": [],
   "source": [
    "from cryptography.hazmat.primitives import serialization, hashes\n",
    "from cryptography.hazmat.primitives.asymmetric import padding\n",
    "from cryptography.hazmat.primitives.asymmetric import rsa"
   ]
  },
  {
   "cell_type": "code",
   "execution_count": 2,
   "metadata": {},
   "outputs": [],
   "source": [
    "private = rsa.generate_private_key(65537, 2048)\n",
    "public = private.public_key()"
   ]
  },
  {
   "cell_type": "code",
   "execution_count": 5,
   "metadata": {},
   "outputs": [],
   "source": [
    "with open('temp.prv', 'wb',) as f:\n",
    "    f.write(private.private_bytes(\n",
    "        encoding=serialization.Encoding.PEM,\n",
    "        format=serialization.PrivateFormat.TraditionalOpenSSL,\n",
    "        encryption_algorithm=serialization.NoEncryption()\n",
    "    )\n",
    ")\n",
    "\n",
    "with open('temp.pub', 'wb',) as f:\n",
    "    f.write(public.public_bytes(\n",
    "        encoding=serialization.Encoding.PEM,\n",
    "        format=serialization.PublicFormat.SubjectPublicKeyInfo\n",
    "    ))"
   ]
  },
  {
   "cell_type": "code",
   "execution_count": 6,
   "metadata": {},
   "outputs": [],
   "source": [
    "with open('temp.prv', 'rb') as f:\n",
    "    private = serialization.load_pem_private_key(\n",
    "        f.read(),\n",
    "        password=None,\n",
    "    )\n",
    "\n",
    "with open('temp.pub', 'rb') as f:\n",
    "    public = serialization.load_pem_public_key(f.read())"
   ]
  },
  {
   "cell_type": "code",
   "execution_count": 8,
   "metadata": {},
   "outputs": [
    {
     "data": {
      "text/plain": [
       "b'\\x10\\x1d\\xa2\\xb0\\x8br|\\xb5\\xa9P\\xdd\\xcfOk\\xda\\x17U)1\\xeb\\xe2\\x90/\\xb4>Nv\\r\\x90K\\xfd\\x1f\\x1d\\xc5\\x84\\x10L\\x9d\\xd5\\xd1/\\xe7\\xd2\"3`\\xfd\\x87\\\\#\\x06\\xf6\\xc1\\xe5\\xa7\\x128\\'\\xa7:\\xa3\\xe4`\\x87H\\xd3B4g\\xf4Av\\xc8\\xcf\\xdf\\x99@V%v\\x1a\\xa7!\\xc1DY\\xcd\\x8fE\\x94s\\x00\\xc8\\x02&\\xc1o8\\x13\\xeaF\\xd5\\x86\\x9bo8\\xd9\\xc8\\x1c\\xa2\\x18|\\xb3\\x8a\\xaa\\xa0\\xffBd\\'7|\\x01\\nNux5VB\\xe3PF\\x038\\x0bS\\xbe\\x1b\\xb7$p\\xc1\\xca\\x02H\\xe6\\x85Ps\\xdeI\\x91\\xd2h\\xe9%4O\\xb8tI\\xdbG\\xda\\x1b\\r\\xbcH\\xd4\\x1f\\x14\\x93\\xa7\\xaf\\x18\\x94\\xb9\\xa1_\\xf1\\x03|\\xa9\\xef\\xce|f\\xad\\xbeu\\xc6~hp\\xd5Og\\xf7\\x15\\x82 \\xae\\xe0\\xff\\xeeu>\\xa8@\\x9c\\xae\\x8a\\xcb\\x93\\xb3\\x1d\\xc3\\xc7]\\xf0\\x1b_\\x16]\\x1d\\xe8\\x1d\\xf0\\'\\xb8>\\xe2\\xdf=\\xfe]\\xb5\\xf3\\xe7\\x11\\x9f8\\xabOA{\\xb4\\x03\\x8a\\xba\\xaaxf\\xd8\\x92'"
      ]
     },
     "execution_count": 8,
     "metadata": {},
     "output_type": "execute_result"
    }
   ],
   "source": [
    "message = b'Hello, human!'\n",
    "\n",
    "cipher = public.encrypt(\n",
    "    message,\n",
    "    padding.OAEP(\n",
    "        mgf=padding.MGF1(algorithm=hashes.SHA256()),\n",
    "        algorithm=hashes.SHA256(),\n",
    "        label=None\n",
    "    )\n",
    ")\n",
    "\n",
    "cipher"
   ]
  },
  {
   "cell_type": "code",
   "execution_count": 9,
   "metadata": {},
   "outputs": [
    {
     "data": {
      "text/plain": [
       "b'Hello, human!'"
      ]
     },
     "execution_count": 9,
     "metadata": {},
     "output_type": "execute_result"
    }
   ],
   "source": [
    "original = private.decrypt(\n",
    "    cipher,\n",
    "    padding.OAEP(\n",
    "        mgf=padding.MGF1(algorithm=hashes.SHA256()),\n",
    "        algorithm=hashes.SHA256(),\n",
    "        label=None\n",
    "    )\n",
    ")\n",
    "\n",
    "original"
   ]
  }
 ],
 "metadata": {
  "kernelspec": {
   "display_name": "Python 3.10.5 64-bit",
   "language": "python",
   "name": "python3"
  },
  "language_info": {
   "codemirror_mode": {
    "name": "ipython",
    "version": 3
   },
   "file_extension": ".py",
   "mimetype": "text/x-python",
   "name": "python",
   "nbconvert_exporter": "python",
   "pygments_lexer": "ipython3",
   "version": "3.10.5"
  },
  "orig_nbformat": 4,
  "vscode": {
   "interpreter": {
    "hash": "e7370f93d1d0cde622a1f8e1c04877d8463912d04d973331ad4851f04de6915a"
   }
  }
 },
 "nbformat": 4,
 "nbformat_minor": 2
}
